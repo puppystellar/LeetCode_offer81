{
 "cells": [
  {
   "cell_type": "markdown",
   "id": "28832414",
   "metadata": {},
   "source": [
    "## 栈与队列 stack & list\n",
    "总览：\n",
    "1. 用两个栈实现队列\n",
    "2. 包含min函数的栈\n",
    "3. 栈的压入，弹出序列\n",
    "4. 翻转单词序列\n",
    "5. 滑动窗口的最大值\n"
   ]
  },
  {
   "cell_type": "code",
   "execution_count": 18,
   "id": "7a0fac9f",
   "metadata": {
    "slideshow": {
     "slide_type": "-"
    }
   },
   "outputs": [
    {
     "name": "stdout",
     "output_type": "stream",
     "text": [
      "[1, 2, 3, 4]\n",
      "1\n",
      "2\n"
     ]
    }
   ],
   "source": [
    "# 1. 用两个栈实现一个队列\n",
    "# 用两个栈实现一个队列。队列的声明如下，请实现它的两个函数 appendTail 和 deleteHead ，\n",
    "# 分别完成在队列尾部插入整数和在队列头部删除整数的功能。(若队列中没有元素，deleteHead 操作返回 -1 )\n",
    "'''\n",
    "思考：有用队列或双向队列实现栈，反过来的话，一个栈用作输入栈，用于压入appendtail传入数据，另一个栈作为输出栈。\n",
    "需要输出的时候，输出栈为空，就将输入栈数据弹出压入输出栈即可。\n",
    "'''\n",
    "\n",
    "class CQueue:\n",
    "\n",
    "    def __init__(self):\n",
    "        self.stack1 = []\n",
    "        self.stack2 = []\n",
    "        \n",
    "\n",
    "\n",
    "    def appendTail(self, value: int) -> None:\n",
    "        self.stack1.append(value)\n",
    "\n",
    "\n",
    "    def deleteHead(self) -> int:\n",
    "        if self.stack2:\n",
    "            return self.stack2.pop()\n",
    "        while self.stack1:\n",
    "            self.stack2.append(self.stack1.pop())\n",
    "        return self.stack2.pop() if self.stack2 else u'队列为空'\n",
    "       # \n",
    "\n",
    "\n",
    "obj = CQueue()\n",
    "obj.stack1=[1,2,3]\n",
    "obj.appendTail(4)\n",
    "print(obj.stack1)\n",
    "\n",
    "param_2 = obj.deleteHead()\n",
    "print(param_2)\n",
    "param_3 = obj.deleteHead()\n",
    "print(param_3)\n",
    "# Your CQueue object will be instantiated and called as such:\n",
    "# obj = CQueue()\n",
    "# obj.appendTail(value)\n",
    "# param_2 = obj.deleteHead()"
   ]
  },
  {
   "cell_type": "markdown",
   "id": "25dc9b42",
   "metadata": {},
   "source": [
    "### 2. 包含min函数的栈\n",
    "定义栈的数据结构，请在该类型中实现一个能够得到栈的最小元素的 min 函数在该栈中，调用 min、push 及 pop 的时间复杂度都是 O(1)。\n",
    "\n",
    "思路：使用一个辅助栈保存最小值！\n",
    "在写pop的时候可能会遇到思路上的问题，可以借助简单的例子来理清\n",
    "在写pop函数的时候一定提前判断stack是否为空"
   ]
  },
  {
   "cell_type": "code",
   "execution_count": 24,
   "id": "39a702a3",
   "metadata": {},
   "outputs": [
    {
     "name": "stdout",
     "output_type": "stream",
     "text": [
      "2\n"
     ]
    }
   ],
   "source": [
    "class MinStack:\n",
    "\n",
    "    def __init__(self):\n",
    "        \"\"\"\n",
    "        initialize your data structure here.\n",
    "        \"\"\"\n",
    "        self.stack = []\n",
    "        # min stack for storing minum element\n",
    "        self.min = []\n",
    "\n",
    "\n",
    "    def push(self, x: int) -> None:\n",
    "        self.stack.append(x)\n",
    "        if self.min and self.min[-1] < x:\n",
    "            # min[-1] is the top of the stack\n",
    "            self.min.append(self.min[-1])\n",
    "        else:\n",
    "            self.min.append(x)\n",
    "\n",
    "\n",
    "    def pop(self) -> None:\n",
    "        if self.stack:\n",
    "            self.min.pop()\n",
    "            return self.stack.pop()\n",
    "        return None\n",
    "            \n",
    "\n",
    "\n",
    "    def top(self) -> int:\n",
    "        return self.stack[-1] if self.stack else None\n",
    "\n",
    "\n",
    "    def min1(self) -> int:\n",
    "        return self.min[-1] if self.min else None\n",
    "    \n",
    "obj = MinStack()\n",
    "obj.stack = [1]\n",
    "obj.push(2)\n",
    "a = obj.min1()\n",
    "# 这里的min函数函数名会因为重名报错，改成min1就ok了，重名错误类型 list is not callable\n",
    "print(a)"
   ]
  },
  {
   "cell_type": "code",
   "execution_count": null,
   "id": "9e93f822",
   "metadata": {},
   "outputs": [],
   "source": [
    "# 3. 栈的压入-弹出序列- medium\n",
    "# description：判断给定的两个序列中，后者是不是前者的弹出序列，给定栈不包含相同的值\n",
    "# example：例如序列1,2,3,4,5是某栈的压入顺序，序列4,5,3,2,1是该压栈序列对应的一个弹出序列，\n",
    "# cause 先入1234出4，入5，出5，出321.bingo！\n",
    "# 但4,3,5,1,2就不可能是该压栈序列的弹出序列。\n",
    "'''\n",
    "思路：使用一个辅助栈，（看出是不是入的弹出序列，出是入的子集）如果辅助栈的栈顶元素不等于出栈元素，那么入栈中找该值，直到入栈为空\n",
    "    如果最后出栈序列为空，那么出栈是入栈的弹出序列。\n",
    "    \n",
    "    所以这道题的key是辅助栈+指针。\n",
    "'''\n",
    "class Solution:\n",
    "    def IsPopOrder(self , pushV: List[int], popV: List[int]) -> bool:\n",
    "        n = len(pushV)\n",
    "        # 辅助栈\n",
    "        s = []\n",
    "        # 遍历入栈下标\n",
    "        j = 0\n",
    "        # 遍历出栈数组\n",
    "        for i in range(n):\n",
    "            # 入栈：栈为空或者栈顶不等于出栈数组\n",
    "            while j < n and (len(s) == 0 or s[-1] != popV[i]):\n",
    "                s.append(pushV[j])\n",
    "                j += 1\n",
    "            # 栈顶等于出栈数组\n",
    "            if s[-1] == popV[i]:\n",
    "                s.pop()\n",
    "            # 否则不匹配序列\n",
    "            else:\n",
    "                return False\n",
    "        return True"
   ]
  },
  {
   "cell_type": "markdown",
   "id": "0d6211f9",
   "metadata": {},
   "source": [
    "![avator](https://uploadfiles.nowcoder.com/images/20220421/397721558_1650532143383/7F25B229A4900F6E066BE03E92B0492E)"
   ]
  },
  {
   "cell_type": "code",
   "execution_count": null,
   "id": "6024f7f5",
   "metadata": {},
   "outputs": [],
   "source": [
    "# 4. 翻转单词顺序- easy\n",
    "# 做过，1 用下面的方法，每个单词分割成字符串，调换顺序，2 将整个句子用栈反转，然后再分别每个单词用栈反转"
   ]
  },
  {
   "cell_type": "markdown",
   "id": "38477905",
   "metadata": {},
   "source": [
    "![avator](https://uploadfiles.nowcoder.com/images/20210708/889362376_1625712877046/130A3B0409C7C654BC18B92D43C4C8BC)"
   ]
  },
  {
   "cell_type": "code",
   "execution_count": null,
   "id": "04c43210",
   "metadata": {},
   "outputs": [],
   "source": [
    "\n",
    "class Solution:\n",
    "    # method1 先拆分后用栈换顺序\n",
    "    def ReverseSentence1(self, str: str) -> str:\n",
    "        strs = str.split(' ')\n",
    "        st = []\n",
    "        # 入栈\n",
    "        for s in strs:\n",
    "            st.append(s)\n",
    "        res = []\n",
    "        # 出栈顺序\n",
    "        while len(st) > 0:\n",
    "            res.append(st.pop())\n",
    "        return \" \".join([x for x in res])\n",
    "    \n",
    "    # method2 分两次反转\n",
    "    def ReverseSentence2(self, str: str) -> str:\n",
    "        str = str[::-1]\n",
    "        s = str.split(' ')\n",
    "        # 以空格为界部分翻转\n",
    "        return(' '.join(s[i][::-1]for i in range(len(s))))"
   ]
  },
  {
   "cell_type": "code",
   "execution_count": null,
   "id": "0070a699",
   "metadata": {},
   "outputs": [],
   "source": [
    "# 5. 滑动窗口的最大值- hard\n",
    "# description： 给定一个长度为 n 的数组 num 和滑动窗口的大小 size ，找出所有滑动窗口里数值的最大值。\n",
    "# 难点：在线性时间复杂度解决问题！\n",
    "'''\n",
    "思路：设计单调队列，研究维护过程\n",
    "solution:\n",
    "    设计单调队列的时候，pop和push操作要有如下规则：\n",
    "    1）pop：如果窗口移除的元素value等于单调队列的出口元素，那么队列弹出该元素，否则不操作\n",
    "    2）push：如果push元素value大于入口元素的树枝，蒋队列入口元素弹出，直到push元素的数值小于等于队列入口元素为止\n",
    "    这样做的好处：如下图\n",
    "    当窗口移动，只需要询问que——front首个元素就可以得到当前window的最大值\n",
    "'''\n"
   ]
  },
  {
   "cell_type": "markdown",
   "id": "b6847ea3",
   "metadata": {},
   "source": [
    "![avatar](https://code-thinking.cdn.bcebos.com/gifs/239.%E6%BB%91%E5%8A%A8%E7%AA%97%E5%8F%A3%E6%9C%80%E5%A4%A7%E5%80%BC-2.gif)"
   ]
  },
  {
   "cell_type": "code",
   "execution_count": null,
   "id": "c0bc8738",
   "metadata": {},
   "outputs": [],
   "source": [
    "# preknowledeg: 这里说的入口元素，出口元素时针对滑动窗口的前后出入\n",
    "\n",
    "from collections\n",
    "# define 单调队列，从大到小\n",
    "class MyQueue:\n",
    "    def __init__(self):\n",
    "        \n",
    "        # 使用deque初始化单调队列，直接使用list会超时\n",
    "        self.queue = deque()\n",
    "        \n",
    "    # 每次弹出，比较要弹出的值是否等于队列出口元素的数值，相等就弹出\n",
    "    # 同时pop前判断当前队列是否为空。\n",
    "    # 也就两个原则，第一队列出口值最大，第二滑动消失的才弹出\n",
    "    def pop(self,value):\n",
    "        if self.queue and value == self.queue[0]:\n",
    "            self.queue.popleft()\n",
    "    # push元素必须大于入口元素，将队列尾部数值弹出，直到push数值小于等于队列入口元素\n",
    "    # 保证队列里数值是单调\n",
    "    def push(self, value):\n",
    "        while self.queue and value > self.queue[-1]\n",
    "            self.queue.pop() # queue[-1] is popped\n",
    "        self.queue.append(value)\n",
    "    # 查询单调队列最大值，也就是最前端的值返回即可\n",
    "    def front(self):\n",
    "        return self.queue[0]\n",
    "        self.queue = deque()\n",
    "        \n",
    "class Solution:\n",
    "    def maxInWindows(self , num: List[int], size: int) -> List[int]:\n",
    "        que = MyQueue()\n",
    "        result = []\n",
    "        for i in range(k) # 将前k个元素放入队列\n",
    "            que.push(num[i])\n",
    "        result.append(que.front()) # 用result记录前k元素最大值\n",
    "        for i in range(k,len(num)):\n",
    "            que.pop(num[i-k]) # slidingwindow移除最前面元素\n",
    "            que.push(num[i]) # slidingwindow加入最后面元素\n",
    "            result.append(que.front()) # 记录当前最大值\n",
    "        return result"
   ]
  },
  {
   "cell_type": "code",
   "execution_count": 4,
   "id": "34c35466",
   "metadata": {},
   "outputs": [
    {
     "name": "stdout",
     "output_type": "stream",
     "text": [
      "0 q\n",
      "1 21\n"
     ]
    }
   ],
   "source": [
    "# enumerate用法示例\n",
    "list1 = ['q','21']\n",
    "for index, item in enumerate(list1):\n",
    "    print(index, item)"
   ]
  },
  {
   "cell_type": "code",
   "execution_count": 8,
   "id": "e7097fd1",
   "metadata": {},
   "outputs": [
    {
     "name": "stdout",
     "output_type": "stream",
     "text": [
      "4\n",
      "1\n",
      "4\n",
      "1\n"
     ]
    }
   ],
   "source": [
    "\n",
    "from collections import deque\n",
    "a = deque([1,2,4])\n",
    "print(a[-1])# 最后一个元素\n",
    "print(a[0])# 第一个元素\n",
    "print(a.pop())\n",
    "print(a.popleft())\n"
   ]
  },
  {
   "cell_type": "code",
   "execution_count": null,
   "id": "75d9e91d",
   "metadata": {},
   "outputs": [],
   "source": []
  }
 ],
 "metadata": {
  "kernelspec": {
   "display_name": "Python 3 (ipykernel)",
   "language": "python",
   "name": "python3"
  },
  "language_info": {
   "codemirror_mode": {
    "name": "ipython",
    "version": 3
   },
   "file_extension": ".py",
   "mimetype": "text/x-python",
   "name": "python",
   "nbconvert_exporter": "python",
   "pygments_lexer": "ipython3",
   "version": "3.9.6"
  }
 },
 "nbformat": 4,
 "nbformat_minor": 5
}

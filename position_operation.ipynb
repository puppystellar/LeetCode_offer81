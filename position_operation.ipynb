{
 "cells": [
  {
   "cell_type": "markdown",
   "id": "262cf433",
   "metadata": {},
   "source": [
    "## 位运算 position operation\n",
    "总览：\n",
    "1. 不用加减乘除做加法\n",
    "2. 二进制中1的个数\n",
    "3. 数值的整数次方\n",
    "4. 数组中只出现一次的两个数字\n",
    "5. 求1+2+3+。。。+n"
   ]
  },
  {
   "cell_type": "code",
   "execution_count": 6,
   "id": "9e903a62",
   "metadata": {},
   "outputs": [
    {
     "data": {
      "text/plain": [
       "3"
      ]
     },
     "execution_count": 6,
     "metadata": {},
     "output_type": "execute_result"
    }
   ],
   "source": [
    "# 1. 不用加减乘除做加法\n",
    "# 写一个函数，求两个整数之和，要求在函数体内不得使用+、-、*、/四则运算符号。\n",
    "# 使用sum或者使用位运算，二进制，按位运算\n",
    "class Solution:\n",
    "    def Add(self , num1: int, num2: int) -> int:\n",
    "        while num2:\n",
    "            res = (num1 ^ num2) & 0xffffffff\n",
    "            move = ((num1 & num2) << 1) & 0xffffffff\n",
    "            num1 = res\n",
    "            num2 = move\n",
    "        if num1 <= 0x7fffffff:\n",
    "            res = num1\n",
    "        else:\n",
    "            res = ~(num1 ^ 0xffffffff)\n",
    "        return res\n",
    "obj = Solution()\n",
    "obj.Add(1,2)"
   ]
  },
  {
   "cell_type": "code",
   "execution_count": null,
   "id": "4624f4e5",
   "metadata": {},
   "outputs": [],
   "source": [
    "# 2. 二进制中1的个数\n",
    "# 输入一个整数 n ，输出该数32位二进制表示中1的个数。其中负数用补码表示。\n",
    "# 输入：arr = [0,1,2,3,4,5,6,7,8]\n",
    "# 输出：[0,1,2,4,8,3,5,6,7]\n",
    "# 解释：[0] 是唯一一个有 0 个 1 的数。 [1,2,4,8] 都有 1 个 1 。 [3,5,6] 有 2 个 1 。 [7] 有 3 个 1 。\n",
    "'''\n",
    "思考：n与n-1做与运算，看结果是否0，不为0的话继续\n",
    "'''\n"
   ]
  },
  {
   "cell_type": "markdown",
   "id": "7bb39692",
   "metadata": {},
   "source": [
    "![avatar](https://code-thinking.cdn.bcebos.com/pics/1356.%E6%A0%B9%E6%8D%AE%E6%95%B0%E5%AD%97%E4%BA%8C%E8%BF%9B%E5%88%B6%E4%B8%8B1%E7%9A%84%E6%95%B0%E7%9B%AE%E6%8E%92%E5%BA%8F.png)"
   ]
  },
  {
   "cell_type": "code",
   "execution_count": 3,
   "id": "0e12c4a1",
   "metadata": {},
   "outputs": [
    {
     "data": {
      "text/plain": [
       "[0, 1, 2, 4, 8, 3, 5, 6, 7]"
      ]
     },
     "execution_count": 3,
     "metadata": {},
     "output_type": "execute_result"
    }
   ],
   "source": [
    "class Solution:\n",
    "    \n",
    "    # method 1：\n",
    "    def sortBybit(self, arr: list[int]) -> list[int]:\n",
    "        # 这里的key相当于是指定排序的规则，可以自定义函数，这里定义的就是根据count_bit进行排序\n",
    "        arr.sort(key = lambda num: (self.count_bits(num), num))\n",
    "        \n",
    "        return arr\n",
    "    \n",
    "    def count_bits(self, num: int) -> int:\n",
    "        count = 0\n",
    "        while num:\n",
    "            num &= num - 1\n",
    "            count += 1\n",
    "        return count\n",
    "    \n",
    "    # method 2 用 & 位运算符，但是好像无法识别 0xffffffff\n",
    "    def NumberOf1(self, n):\n",
    "        # write code here\n",
    "        count = 0\n",
    "        n = n & 0xffffffff\n",
    "        while n != 0:\n",
    "            if (n & 1) == 1:\n",
    "                count += 1\n",
    "            n = n >> 1   \n",
    "\n",
    "        return count\n",
    "arr = [0,1,2,3,4,5,6,7,8]    \n",
    "obj = Solution()\n",
    "obj.sortBybit(arr)\n",
    "    \n",
    "    "
   ]
  },
  {
   "cell_type": "code",
   "execution_count": 10,
   "id": "d6fd2d7d",
   "metadata": {},
   "outputs": [
    {
     "data": {
      "text/plain": [
       "4.0"
      ]
     },
     "execution_count": 10,
     "metadata": {},
     "output_type": "execute_result"
    }
   ],
   "source": [
    "# 3. 数值的整数次方\n",
    "# 实现函数 double Power(double base, int exponent)，求base的exponent次方。\n",
    "'''\n",
    "思考：考察代码完整性，需要考虑次方是正数负数0\n",
    "另外需要注意，base是float型，float类型相等不能用==\n",
    "另外：类内调用函数的时候记得加self.\n",
    "\n",
    "'''\n",
    "class Solution:\n",
    "    def equal_zero(self, num):\n",
    "        if abs(num-1.0) < 0.00000001:\n",
    "            return True\n",
    "        \n",
    "    def Power(self , base: float, exponent: int) -> float:\n",
    "        # 0不能做分母\n",
    "        if self.equal_zero(base) and exponent < 0:\n",
    "            raise ZeroDivisionError\n",
    "        ret = self.power_value(base, abs(exponent))\n",
    "        if exponent < 0:\n",
    "            return 1.0/ret\n",
    "        else:\n",
    "            return ret\n",
    "    # float不能直接用==判断是否为0 \n",
    "    \n",
    "    def power_value(self, base, exponent):\n",
    "        if exponent == 0:\n",
    "            return 1\n",
    "        if exponent == 1:\n",
    "            return base\n",
    "        res = 1\n",
    "        for i in range(exponent):\n",
    "            res *= base\n",
    "        return res\n",
    "obj = Solution()\n",
    "obj.Power(2.0, 2)"
   ]
  },
  {
   "cell_type": "code",
   "execution_count": null,
   "id": "f748c698",
   "metadata": {},
   "outputs": [],
   "source": [
    "# 4. 数组中只出现一次的两个数字\n",
    "# 一个整型数组里除了两个数字只出现一次，其他的数字都出现了两次。请写程序找出这两个只出现一次的数字。\n",
    "# 要求：空间复杂度O(1),时间复杂度O(n)，输出按照非降序排列\n",
    "'''\n",
    "思考：1）用字典key-value对，时间空间复杂度都2n\n",
    "     2）位运算的思想，按位异或，在得到的值中找到二进制最后一个1，然后把数组按照改位01分两组\n",
    "'''\n",
    "class Solution:\n",
    "    def FindNumsAppearOnce(self , array: List[int]) -> List[int]:\n",
    "        if len(array) < 2:\n",
    "            return None\n",
    "        dic, res = {}, []\n",
    "        for num in array:\n",
    "            dic[num] = 1 if num in dict else 0\n",
    "        for key in dict:\n",
    "            if dict[key] == 0:\n",
    "                res.append(key)\n",
    "        return res\n",
    "    # 结果ok但是不能满足时间空间复杂度\n",
    "    def findnumappearonce(self, array):\n",
    "        if len(array) < 2:\n",
    "            return None\n",
    "        remain, index = 0, 1\n",
    "        for num in array:\n",
    "            remain = remin ^ num\n",
    "            while\n"
   ]
  },
  {
   "cell_type": "code",
   "execution_count": 4,
   "id": "48452caa",
   "metadata": {},
   "outputs": [
    {
     "data": {
      "text/plain": [
       "6"
      ]
     },
     "execution_count": 4,
     "metadata": {},
     "output_type": "execute_result"
    }
   ],
   "source": [
    "# 5. 求1+2+3+。。。+n\n",
    "# 要求 不能使用for while if else\n",
    "# 思路：使用range和sum，使用reduce函数，两个参数 function定义叠加（lambda匿名函数），iteration是可迭代的对象\n",
    "\n",
    "def get_sum1(n):\n",
    "    return sum(range(1,n+1))\n",
    "\n",
    "from functools import reduce\n",
    "\n",
    "def get_sum2(n):\n",
    "    return reduce(lambda x, y: x+y, range(1, n+1))\n",
    "\n",
    "# 这个定义的lambda匿名函数可以加也可以减（x-y）\n",
    "get_sum2(3)\n",
    "\n",
    "    "
   ]
  },
  {
   "cell_type": "code",
   "execution_count": null,
   "id": "7eccc8d2",
   "metadata": {},
   "outputs": [],
   "source": []
  }
 ],
 "metadata": {
  "kernelspec": {
   "display_name": "Python 3 (ipykernel)",
   "language": "python",
   "name": "python3"
  },
  "language_info": {
   "codemirror_mode": {
    "name": "ipython",
    "version": 3
   },
   "file_extension": ".py",
   "mimetype": "text/x-python",
   "name": "python",
   "nbconvert_exporter": "python",
   "pygments_lexer": "ipython3",
   "version": "3.9.6"
  }
 },
 "nbformat": 4,
 "nbformat_minor": 5
}

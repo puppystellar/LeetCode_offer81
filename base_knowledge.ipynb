{
 "cells": [
  {
   "cell_type": "markdown",
   "id": "82b3b2a7",
   "metadata": {},
   "source": [
    "## 栈、队列、堆的python实现\n",
    "### summary\n",
    "三者是基础的数据结构类型，\n",
    "\n",
    "栈：先进后出的数据结构\n",
    "\n",
    "队列：先进先出的数据结构(列表？？)\n",
    "\n",
    "堆：通常可以看成一棵树，氛围最大堆和最小堆，最小堆是指堆中某个节点元素总和不大于其父节点的值，最大堆是指堆中某个元素总是不小于其父节点的值。\n",
    "\n",
    "### 1.栈的python实现\n",
    "#### 1.1 栈stack的列表表示方法\n",
    "列表list是python中常用的基础数据结构，可以用列表模拟栈，实现入栈出栈效果。  \n",
    "列表与队列，队列中不包含索引，列表list包含，能够定位到某一个元素，但同时数据发生变化时，通过索引的操作容易出错。"
   ]
  },
  {
   "cell_type": "code",
   "execution_count": 26,
   "id": "d44e7c30",
   "metadata": {},
   "outputs": [
    {
     "name": "stdout",
     "output_type": "stream",
     "text": [
      "[1]\n",
      "[1, 2]\n",
      "[1, 2, 5]\n",
      "top element: 5\n",
      "1\n",
      "[1, 2]\n",
      "not empty\n"
     ]
    }
   ],
   "source": [
    "stack = []\n",
    "# into the stack\n",
    "stack.append(1)\n",
    "print(stack)\n",
    "stack.append(2)\n",
    "print(stack)\n",
    "stack.append(5)\n",
    "print(stack)\n",
    "# show the top element of the stack \n",
    "top = stack[-1]\n",
    "print('top element:', top)\n",
    "# show the bottom element of the stack\n",
    "print(stack[0])\n",
    "# out of the stack\n",
    "stack.pop()\n",
    "print(stack)\n",
    "\n",
    "# judge if the stack is empty\n",
    "if stack:\n",
    "    print('not empty')\n",
    "else:\n",
    "    print('empty')"
   ]
  },
  {
   "cell_type": "markdown",
   "id": "19b480f6",
   "metadata": {},
   "source": [
    "#### 1.2 用双向队列模拟栈\n",
    "python内置模块collections中包含双向队列deque的数据结构类型，可以在队列的左端右端实现入队和出队，在双向队列的右端指向入队和出队动作，模拟入栈和出栈。和上面的没有区别\\\n",
    "Q:右端指向"
   ]
  },
  {
   "cell_type": "code",
   "execution_count": 5,
   "id": "73b3ec23",
   "metadata": {},
   "outputs": [
    {
     "name": "stdout",
     "output_type": "stream",
     "text": [
      "deque([1])\n",
      "deque([1, 2])\n",
      "deque([1])\n",
      "[1]\n"
     ]
    }
   ],
   "source": [
    "from collections import deque\n",
    "stack = deque()\n",
    "# into the stack\n",
    "stack.append(1)\n",
    "print(stack)\n",
    "stack.append(2)\n",
    "print(stack)\n",
    "# out of the stack\n",
    "a = stack.pop()\n",
    "print(stack)\n",
    "print(list(stack))"
   ]
  },
  {
   "cell_type": "markdown",
   "id": "1893939b",
   "metadata": {},
   "source": [
    "### 2. 队列的python实现\n",
    "#### 2.1 队列的列表实现\n",
    "使用在列表尾部添加元素模拟入队，列表头部删除元素模拟出队。"
   ]
  },
  {
   "cell_type": "code",
   "execution_count": 17,
   "id": "5b745ed8",
   "metadata": {},
   "outputs": [
    {
     "name": "stdout",
     "output_type": "stream",
     "text": [
      "[1]\n",
      "[1, 2]\n",
      "[2]\n"
     ]
    }
   ],
   "source": [
    "queue = []\n",
    "# into the queue\n",
    "queue.append(1)\n",
    "print(queue)\n",
    "queue.append(2)\n",
    "print(queue)\n",
    "# out of the queue\n",
    "queue.pop(0) \n",
    "print(queue)\n",
    "# tips：这里的pop里0不能缺省，表示从头部删除，否则pop出的是列表中最后一个元素 which和栈一样了"
   ]
  },
  {
   "cell_type": "code",
   "execution_count": 20,
   "id": "d9eedba6",
   "metadata": {},
   "outputs": [
    {
     "name": "stdout",
     "output_type": "stream",
     "text": [
      "deque([1])\n",
      "deque([1, 2])\n",
      "deque([2])\n",
      "[2]\n"
     ]
    }
   ],
   "source": [
    "# 使用deque实现队列\n",
    "from collections import deque\n",
    "queue = deque()\n",
    "queue.append(1)\n",
    "print(queue)\n",
    "queue.append(2)\n",
    "print(queue)\n",
    "# out of the queue\n",
    "queue.popleft()\n",
    "print(queue)\n",
    "print(list(queue))"
   ]
  },
  {
   "cell_type": "markdown",
   "id": "4c7b7b22",
   "metadata": {},
   "source": [
    "### 3. 堆的python实现\n",
    "python内置了实现堆的模块，可以直接调用。\n",
    "堆的特性：  \n",
    "1. 堆的数据要基于列表list进行操作，不开辟新的存储空间\n",
    "2. 堆头永远是最小值\n",
    "3. 堆的检索是根据中序遍历方式：根节点-左节点-右节点"
   ]
  },
  {
   "cell_type": "code",
   "execution_count": 22,
   "id": "6cbb2c96",
   "metadata": {},
   "outputs": [
    {
     "name": "stdout",
     "output_type": "stream",
     "text": [
      "[1, 2, 4, 7, 3]\n",
      "top element: 1\n",
      "headp ranking: [2, 3, 4, 7]\n",
      "order: [2, 3, 4, 7, 5]\n",
      "order: [3, 5, 4, 7, 6]\n"
     ]
    }
   ],
   "source": [
    "import heapq\n",
    "# list \n",
    "list1 = [1,3,4,7,2]\n",
    "# 对list1最小堆排序\n",
    "heapq.heapify(list1)\n",
    "print(list1)\n",
    "\n",
    "# delete top element\n",
    "a = heapq.heappop(list1)\n",
    "print('top element:', a)\n",
    "print('headp ranking:',list1)\n",
    "\n",
    "# add new element 'val'in headp and re-order\n",
    "val = 5\n",
    "heapq.heappush(list1,val)\n",
    "print('order:',list1)\n",
    "\n",
    "# replace by a new element, delete top element if the new one is bigger\n",
    "val = 6\n",
    "heapq.heapreplace(list1, val)\n",
    "print(\"order:\", list1)\n"
   ]
  },
  {
   "cell_type": "code",
   "execution_count": null,
   "id": "607e1e99",
   "metadata": {},
   "outputs": [],
   "source": []
  }
 ],
 "metadata": {
  "kernelspec": {
   "display_name": "Python 3 (ipykernel)",
   "language": "python",
   "name": "python3"
  },
  "language_info": {
   "codemirror_mode": {
    "name": "ipython",
    "version": 3
   },
   "file_extension": ".py",
   "mimetype": "text/x-python",
   "name": "python",
   "nbconvert_exporter": "python",
   "pygments_lexer": "ipython3",
   "version": "3.9.6"
  }
 },
 "nbformat": 4,
 "nbformat_minor": 5
}

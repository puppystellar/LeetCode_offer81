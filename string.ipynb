{
 "cells": [
  {
   "cell_type": "markdown",
   "id": "361721a4",
   "metadata": {},
   "source": [
    "\n",
    "## 数据结构-字符串\n",
    "### 总览：\n",
    "\n",
    "summary: 字符串是若干字符组成的有限序列，可以理解成字符数组，\n",
    "1. 替换空格\n",
    "2. 字符串的排列\n",
    "3. 第一个只出现一次的字符\n",
    "4. 左旋转字符串\n",
    "5. 反转单词序列\n",
    "6. 把字符串转换为整数\n",
    "7. 正则表达式匹配\n",
    "8. 表示数值的字符串\n",
    "9. 字符串中第一个不重复的字符\n",
    "\n",
    "以下是按照 牛客网 剑指offer 知识分类篇整理"
   ]
  },
  {
   "cell_type": "code",
   "execution_count": 19,
   "id": "f939d62e",
   "metadata": {},
   "outputs": [
    {
     "name": "stdout",
     "output_type": "stream",
     "text": [
      "we%are%happy\n",
      "we%are%happy\n",
      "we are happy\n",
      "method2:\n",
      "we%are\n",
      "we are\n"
     ]
    }
   ],
   "source": [
    "# 1. 替换空格\n",
    "# description：实现一个函数，把字符串 s 中的每个空格替换成\"%20\"。\n",
    "\"\"\"\n",
    "    @思考：直接使用python字符串的内置函数\n",
    "\"\"\"\n",
    "\n",
    "class Solution:\n",
    "    def replaceSpace(self, s: str) -> str:\n",
    "        s1 = s.replace(' ','%')\n",
    "        print(s1)\n",
    "        print(s)\n",
    "# 这里遇到一个问题，如果我写s.replace(' ','%')    then print(s), is 'we are happy'\n",
    "# if print(s.replace(' ', '%')) is we%are%happy\n",
    "# 也就是你需要一个新的变量存储它，它本身没有改变，要么就直接print那句话\n",
    "\n",
    "obj = Solution()\n",
    "string = 'we are happy'\n",
    "print(string.replace(' ', '%'))\n",
    "obj.replaceSpace(string)\n",
    "print('method2:')\n",
    "\n",
    "'''\n",
    "@ 如果不借助内置函数，c++中是一道双指针的题，或者是自己去实现替换，那就需要多拓展格子，移动原有格子的字符\n",
    "    3 steps:\n",
    "    1)首先扩充数组到每个空格替换成\"%20\"之后的大小。\n",
    "    2)然后从后向前替换空格，(双指针)\n",
    "    3)i指向新长度的末尾，j指向旧长度的末尾。\n",
    "'''\n",
    "class solution:\n",
    "    def replaceSpace(self, s:str) -> str:\n",
    "        counter = s.count(' ')\n",
    "        # 新建一个list作为拓展后的字符串\n",
    "        res = list(s)\n",
    "        # 遇到空格多扩展两个格子存%20\n",
    "        res.extend([' ']* counter * 2)\n",
    "        \n",
    "        # 原始和拓展后的字符串 末尾\n",
    "        left, right = len(s)-1, len(res) - 1\n",
    "        while left >= 0:\n",
    "            # left指针式是一步步前移，right指针不是\n",
    "            if res[left] != ' ':\n",
    "                res[right] = res[left]\n",
    "                right -= 1\n",
    "            else:\n",
    "                # python 中的区间是左闭右开，所以右边边界需要注意\n",
    "                res[right - 2: right + 1] = '%20'\n",
    "                right -= 3\n",
    "            left -= 1\n",
    "        return res\n",
    "        #return ''.join(res)\n",
    "obj1 = solution()\n",
    "# string1 = 'we are one'\n",
    "obj.replaceSpace('we are')"
   ]
  },
  {
   "cell_type": "markdown",
   "id": "3c5417f0",
   "metadata": {},
   "source": [
    "![avatar](https://tva1.sinaimg.cn/large/e6c9d24ely1go6qmevhgpg20du09m4qp.gif)"
   ]
  },
  {
   "cell_type": "code",
   "execution_count": null,
   "id": "02c70742",
   "metadata": {},
   "outputs": [],
   "source": [
    "# 2. 左旋转字符串\n",
    "# description：字符串的左旋转操作是把字符串前面的若干个字符转移到字符串的尾部。\n",
    "# 请定义一个函数实现字符串左旋转操作的功能。比如，输入字符串\"abcdefg\"和数字2，该函数将返回左旋转两位得到的结果\"cdefgab\"。\n",
    "#example：输入: s = \"abcdefg\", k = 2 输出: \"cdefgab\"\n",
    "'''\n",
    "    @思考：反转单词的题类似，使用整体反转+局部反转可以实现反转单词目的。\n",
    "    （这个思路是建立在不额外申请空间的前提，如果额外申请，可以很简单）\n",
    "    类似的，仍然可以使用该方法：分3步，\n",
    "    1）反转区间为前n的子串\n",
    "    2）反转区间为n到末尾的子串\n",
    "    3）反转整个字符串\n",
    "    \n",
    "    substr和 反转 时间复杂度都是O（n），但是申请额外空间，空间复杂度n，反转的空间复杂度是1\n",
    "'''\n",
    "class Solution:\n",
    "    def reverseLeftWords(self, s: str, n: int) -> str:\n",
    "        # python 特别的切片方法\n",
    "        return s[n:] + s[0:n]\n",
    "    def reverseLeftWords_2(self, s: str, n: int) -> str:\n",
    "        # 一般方法, transfer str into list\n",
    "        s = list(s)\n",
    "        s[0:n] = list(reversed(s[0:n]))\n",
    "        s[n:] = list(reversed(s[n:]))\n",
    "        s.reverse()\n",
    "        # attention the usage of reverse & reversed\n",
    "        return ''.join(s)"
   ]
  },
  {
   "cell_type": "code",
   "execution_count": null,
   "id": "139a43c7",
   "metadata": {},
   "outputs": [],
   "source": [
    "# 3. 字符串的排列\n",
    "# 输入一个长度为 n 字符串，打印出该字符串中字符的所有排列，你可以以任意顺序返回这个字符串数组。\n",
    "# 例如输入字符串ABC,则输出由字符A,B,C所能排列出来的所有字符串ABC,ACB,BAC,BCA,CBA和CAB。\n",
    "'''\n",
    "    @思考：递归完成，也可以使用库函数.\n",
    "    如下图，遍历字符串，取遍历的字符当首字符，对剩下的字符组成的字符串进行全排列操作。\n",
    "'''"
   ]
  },
  {
   "cell_type": "markdown",
   "id": "33bf4198",
   "metadata": {},
   "source": [
    "![avatar](https://uploadfiles.nowcoder.com/images/20211008/557336_1633676660853/6226390B4185DB132AFFDB10F09F8BEB)"
   ]
  },
  {
   "cell_type": "code",
   "execution_count": 24,
   "id": "8190c0ab",
   "metadata": {},
   "outputs": [
    {
     "data": {
      "text/plain": [
       "['abc', 'acb', 'bac', 'bca', 'cab', 'cba']"
      ]
     },
     "execution_count": 24,
     "metadata": {},
     "output_type": "execute_result"
    }
   ],
   "source": [
    "# @param str string字符串 \n",
    "# @return string字符串一维数组\n",
    "#\n",
    "class Solution:\n",
    "    def Permutation(self , str: str):\n",
    "        # write code here\n",
    "        str_set = []\n",
    "        ret = [] # final result\n",
    "        def my_permutation(string):\n",
    "            for i in string:\n",
    "                str_tem = string.replace(i,'')\n",
    "                # 首先固定i不变append，后边的部分进行递归\n",
    "                str_set.append(i)\n",
    "                if len(str_tem) > 0:\n",
    "                    my_permutation(str_tem)\n",
    "                else:\n",
    "                    ret.append(''.join(str_set))\n",
    "                str_set.pop()\n",
    "        my_permutation(str)\n",
    "        return ret\n",
    "\n",
    "obj = Solution()\n",
    "string = 'abc'\n",
    "obj.Permutation(string)"
   ]
  },
  {
   "cell_type": "code",
   "execution_count": 27,
   "id": "c9054b4d",
   "metadata": {},
   "outputs": [
    {
     "data": {
      "text/plain": [
       "4"
      ]
     },
     "execution_count": 27,
     "metadata": {},
     "output_type": "execute_result"
    }
   ],
   "source": [
    "# 4. 第一个只出现一次的字符（时间效率与空间效率的平衡）\n",
    "# description：在一个长为 字符串中找到第一个只出现一次的字符,并返回它的位置, 如果没有则返回 -1（需要区分大小写）.（从0开始计数）\n",
    "# 要求：空间复杂度 O(n)，时间复杂度O(n)\n",
    "'''\n",
    "    思考：使用两个hash，一个记录每个字符出现的次数，另一个记录每个字符第一次出现的位置\n",
    "    for in enumerate 用法：\n",
    "    for index, item in enumerate(list1):\n",
    "    get函数表示字典中要查的key，返回指定key的value，若key不在字典中返回默认值none或者预设的默认值。\n",
    "    另外：提前判断是否为空\n",
    "'''\n",
    "\n",
    "class Solution:\n",
    "    def FirstNotRepeatingChar(self , str: str) -> int:\n",
    "        # write code here\n",
    "        # if not string: 和下面语句是一样的，如果是空的话返回-1\n",
    "        if string is None:\n",
    "            return -1\n",
    "        # 两个字典记录 次数和首次位置\n",
    "        count = {}\n",
    "        loc = {}\n",
    "        for k, s in enumerate(string):\n",
    "            # k-index，s-item\n",
    "            count[s] = count[s]+1 if count.get(s) else 1\n",
    "            loc[s] = loc[s] if loc.get(s) else k\n",
    "        ret = float('inf')\n",
    "        for k in loc.keys():\n",
    "            if count.get(k) == 1 and loc[k] < ret:\n",
    "                ret = loc[k]\n",
    "        return ret\n",
    "\n",
    "obj = Solution()\n",
    "string='google'\n",
    "obj.FirstNotRepeatingChar(string)\n"
   ]
  },
  {
   "cell_type": "code",
   "execution_count": 35,
   "id": "0169b9ad",
   "metadata": {},
   "outputs": [
    {
     "name": "stdout",
     "output_type": "stream",
     "text": [
      "good is google\n",
      "ogle is goodgo\n"
     ]
    }
   ],
   "source": [
    "# 5. 反转单词序列\n",
    "# 要求：空间复杂度 O(n)，时间复杂度 O(n)，保证没有只包含空格的字符串\n",
    "# 输入：I am a nowcoder. 输出：nowcoder. a am I\n",
    "'''\n",
    "    思考：python中的字符串是不可变对象，可以转化成列表再转回去\n",
    "    join()： 连接字符串数组。 将字符串、元组、列表中的元素以指定的字符(分隔符)连接生成一个新的字符串\n",
    "    读取方法：\n",
    "    [::-1] 顺序相反操作\n",
    "    [-1] 读取倒数第一个元素\n",
    "    [3::-1] 从下标为3（从0开始）的元素开始翻转读取\n",
    "    \n",
    "    str.split()作用：对字符串进行切片，'Hello world!'变成['Hello', 'world!']列表！\n",
    "'''\n",
    "# 第一个例子是反转各个单词的顺序！\n",
    "class Solution:\n",
    "    def ReverseSentence(self , str: str) -> str:\n",
    "        tmp = str.split()\n",
    "        print(' '.join(tmp[::-1]))\n",
    "        \n",
    "# 第二个例子是将前n个元素旋转到后面    \n",
    "    def Reverseleft_2(self , str: str, n: int) -> str:\n",
    "        if not str:\n",
    "            return ''\n",
    "        n %= len(str)\n",
    "        print(str[n:] + str[:n])\n",
    "        \n",
    "\n",
    "obj = Solution()\n",
    "string='google is good'\n",
    "obj.ReverseSentence(string)\n",
    "obj.Reverseleft_2(string, 2)\n"
   ]
  },
  {
   "cell_type": "code",
   "execution_count": 69,
   "id": "ae900e27",
   "metadata": {},
   "outputs": [
    {
     "name": "stdout",
     "output_type": "stream",
     "text": [
      "is digit\n",
      "is digit\n",
      "is digit\n",
      "-132\n"
     ]
    }
   ],
   "source": [
    "# 6. 把字符串转换为整数\n",
    "# description：实现把字符串转换成整数这个功能。传入的字符串可能有以下部分组成:1.若干空格\n",
    "# 2.（可选）一个符号字符（'+' 或 '-'） 3. 数字，字母，符号，空格组成的字符串表达式\n",
    "# 算法如下：去掉无用前导空格，有无+——，没有默认+，与后面尽可能多的连续数字组合起来成为有效整数，没有有效整数返回0，\n",
    "# 后面对于字符忽略\n",
    "'''\n",
    "    思考：判断if，以及用raise抛出异常，异常种类很多可以一开始 定义在一起\n",
    "    自己写的时候遇到问题：在判断逻辑的时候一直out None，但是代码没有问题，最后debug发现是缩进的问题\n",
    "    \n",
    "'''\n",
    "class Solution:\n",
    "    def StrToInt(self , s: str) -> int:\n",
    "        if not s:\n",
    "            raise Exception('string cannot be None',s)\n",
    "            # flag to judge + - ,ret for result\n",
    "        flag = 0\n",
    "        ret = 0\n",
    "        for k,v in enumerate(s):\n",
    "            # 如果是数字，直接运算\n",
    "            if v.isdigit():\n",
    "                print('is digit')\n",
    "                val = ord(v) - ord('0')\n",
    "                ret = ret * 10 + val\n",
    "            else:\n",
    "                # k==0表示value ‘+-’ 出现在首位上， 避免中间出现+-\n",
    "                if not flag:\n",
    "                # flag不为空\n",
    "                    if v == '+' and k == 0:\n",
    "                        flag = 1\n",
    "                    elif v == '-' and k == 0:\n",
    "                        flag = -1\n",
    "                    else:\n",
    "                        raise Exception('digit is needed', s)\n",
    "                else:\n",
    "                    raise Exception('digit is needed', s)\n",
    "        if flag and len(string) == 1:\n",
    "                # 是否只有flag\n",
    "            raise Exception('digit is needed', s)\n",
    "        return ret if flag >= 0 else -ret\n",
    "\n",
    "obj = Solution()\n",
    "string = '-132'\n",
    "ret = obj.StrToInt(string)\n",
    "print(ret)"
   ]
  },
  {
   "cell_type": "code",
   "execution_count": 6,
   "id": "eaafbcdd",
   "metadata": {},
   "outputs": [
    {
     "name": "stdout",
     "output_type": "stream",
     "text": [
      "(0, 3)\n",
      "None\n",
      "(0, 3)\n",
      "(11, 14)\n",
      "['窗前明月光', '疑是地上霜', '举头望明月', '低头思故乡']\n"
     ]
    }
   ],
   "source": [
    "# 7. 正则表达式匹配\n",
    "# description： 正则表达式是一个特殊的字符序列，它能帮助你方便的检查一个字符串是否与某种模式匹配。\n",
    "\n",
    "# re.match 尝试从字符串的起始位置匹配一个模式，如果不是起始位置匹配成功的话，match() 就返回 none。\n",
    "import re\n",
    "print(re.match('www', 'www.runoob.com').span())  # 在起始位置匹配\n",
    "print(re.match('com', 'www.runoob.com'))         # 不在起始位置匹配\n",
    "# re.search 扫描整个字符串并返回第一个成功的匹配。\n",
    "print(re.search('www', 'www.runoob.com').span())  # 在起始位置匹配\n",
    "print(re.search('com', 'www.runoob.com').span())  # 不在起始位置匹配\n",
    "\n",
    "# re.sub() 也可以用来替换字符\n",
    "# 拆分长字符\n",
    "def dev():\n",
    "    poem = '窗前明月光，疑是地上霜。举头望明月，低头思故乡。'\n",
    "    sentence_list = re.split(r'[，。, .]', poem)\n",
    "    while '' in sentence_list:\n",
    "        sentence_list.remove('')\n",
    "    print(sentence_list)  \n",
    "dev()"
   ]
  },
  {
   "cell_type": "code",
   "execution_count": null,
   "id": "3593e3ea",
   "metadata": {},
   "outputs": [],
   "source": [
    "# 8. 表示数值的字符串\n",
    "# description：\n",
    "\n",
    "class Solution:\n",
    "    def isNumber(self, s: str) -> bool:\n",
    "        states = [\n",
    "            { ' ': 0, 's': 1, 'd': 2, '.': 4 },  # 0. start with 'blank'\n",
    "            { 'd': 2, '.': 4 } ,                  # 1. 'sign' before 'e'\n",
    "            { 'd': 2, '.': 3, 'e': 5, ' ': 8 }, # 2. 'digit' before 'dot'\n",
    "            { 'd': 3, 'e': 5, ' ': 8 },         # 3. 'digit' after 'dot'\n",
    "            { 'd': 3 },                          # 4. 'digit' after 'dot' (‘blank’ before 'dot')\n",
    "            { 's': 6, 'd': 7 },                 # 5. 'e'\n",
    "            { 'd': 7 },                          # 6. 'sign' after 'e'\n",
    "            { 'd': 7, ' ': 8 },                 # 7. 'digit' after 'e'\n",
    "            { ' ': 8 }                           # 8. end with 'blank'\n",
    "        ]\n",
    "        p = 0                           # start with state 0\n",
    "        for c in s:\n",
    "            if '0' <= c <= '9': t = 'd'  # digit\n",
    "            elif c in \"+-\": t = 's'        # sign\n",
    "            elif c in \"eE\": t = 'e'      # e or E\n",
    "            elif c in \". \": t = c          # dot, blank\n",
    "            else: t = '?'                  # unknown\n",
    "            if t not in states[p]: return False\n",
    "            p = states[p][t]\n",
    "        return p in (2, 3, 7, 8)"
   ]
  },
  {
   "cell_type": "code",
   "execution_count": 7,
   "id": "ae5eef88",
   "metadata": {},
   "outputs": [],
   "source": [
    "# 9. 字符流中第一个不重复的字符\n",
    "# description：请实现一个函数用来找出字符流中第一个只出现一次的字符。\n",
    "# -*- coding:utf-8 -*-\n",
    "class Solution:\n",
    "    # 返回对应char\n",
    "    def __init__(self):\n",
    "        self.string_all = {}\n",
    "        self.ch = []\n",
    "    def FirstAppearingOnce(self):\n",
    "        # write code here\n",
    "        if self.string_all is None:\n",
    "            return '#'\n",
    "        for i in self.ch:\n",
    "            if self.string_all[i] == 1:\n",
    "                return i\n",
    "        return '#'\n",
    "    def Insert(self, char):\n",
    "        # write code here\n",
    "        self.ch.append(char)\n",
    "        if char in self.string_all:\n",
    "            self.string_all[char] += 1\n",
    "        else:\n",
    "            self.string_all[char] = 1"
   ]
  },
  {
   "cell_type": "code",
   "execution_count": null,
   "id": "38178e1b",
   "metadata": {},
   "outputs": [],
   "source": []
  }
 ],
 "metadata": {
  "kernelspec": {
   "display_name": "Python 3 (ipykernel)",
   "language": "python",
   "name": "python3"
  },
  "language_info": {
   "codemirror_mode": {
    "name": "ipython",
    "version": 3
   },
   "file_extension": ".py",
   "mimetype": "text/x-python",
   "name": "python",
   "nbconvert_exporter": "python",
   "pygments_lexer": "ipython3",
   "version": "3.9.6"
  }
 },
 "nbformat": 4,
 "nbformat_minor": 5
}
